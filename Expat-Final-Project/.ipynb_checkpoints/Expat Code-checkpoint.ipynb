{
 "cells": [
  {
   "cell_type": "code",
   "execution_count": 2,
   "metadata": {
    "colab": {
     "base_uri": "https://localhost:8080/"
    },
    "id": "qhBCuFyNNomT",
    "outputId": "242b68fc-3b6b-4fa1-ae1a-9490195d8576"
   },
   "outputs": [
    {
     "name": "stdout",
     "output_type": "stream",
     "text": [
      "Number of NA values in each column:\n",
      "Sr No                               0\n",
      "Country Name                        0\n",
      "GDP                                 0\n",
      "Death Rate                          0\n",
      "Health Expenditure                  0\n",
      "Life Expectancy                     0\n",
      "Population Density                  0\n",
      "Average Temperatures                3\n",
      "Crime Rate                          2\n",
      "Environmental Performance Index    12\n",
      "Happiness Index                    37\n",
      "CPI                                 0\n",
      "Politoical Stability                0\n",
      "dtype: int64\n",
      "\n",
      "Number of zero values in each column:\n",
      "Sr No                               0\n",
      "Country Name                        0\n",
      "GDP                                 9\n",
      "Death Rate                          2\n",
      "Health Expenditure                  9\n",
      "Life Expectancy                     4\n",
      "Population Density                  0\n",
      "Average Temperatures                0\n",
      "Crime Rate                          1\n",
      "Environmental Performance Index     0\n",
      "Happiness Index                     0\n",
      "CPI                                27\n",
      "Politoical Stability                0\n",
      "dtype: int64\n",
      "Number of NA values in each column:\n",
      "Sr No                              0\n",
      "Country Name                       0\n",
      "GDP                                0\n",
      "Death Rate                         0\n",
      "Health Expenditure                 0\n",
      "Life Expectancy                    0\n",
      "Population Density                 0\n",
      "Average Temperatures               0\n",
      "Crime Rate                         0\n",
      "Environmental Performance Index    0\n",
      "Happiness Index                    0\n",
      "CPI                                0\n",
      "Politoical Stability               0\n",
      "dtype: int64\n",
      "\n",
      "Number of zero values in each column:\n",
      "Sr No                              0\n",
      "Country Name                       0\n",
      "GDP                                0\n",
      "Death Rate                         0\n",
      "Health Expenditure                 0\n",
      "Life Expectancy                    0\n",
      "Population Density                 0\n",
      "Average Temperatures               0\n",
      "Crime Rate                         0\n",
      "Environmental Performance Index    0\n",
      "Happiness Index                    0\n",
      "CPI                                0\n",
      "Politoical Stability               0\n",
      "dtype: int64\n"
     ]
    }
   ],
   "source": [
    "import gradio as gr\n",
    "import pandas as pd\n",
    "import matplotlib.pyplot as plt\n",
    "import ipywidgets as widgets\n",
    "from IPython.display import display\n",
    "import numpy as np\n",
    "import plotly.express as px\n",
    "import geopandas as gpd\n",
    "from ipywidgets import interact, Dropdown, IntSlider\n",
    "\n",
    "df = pd.read_excel('/Users/prithvi/Downloads/Final DataSheet.xlsx') #Read excel file\n",
    "\n",
    "#To check for NA and 0 values    \n",
    "na_values = df.isna().sum()\n",
    "\n",
    "# Check for zero values\n",
    "zero_values = df.eq(0).sum()\n",
    "\n",
    "print(\"Number of NA values in each column:\")\n",
    "print(na_values)\n",
    "\n",
    "print(\"\\nNumber of zero values in each column:\")\n",
    "print(zero_values)\n",
    "\n",
    "#Replace values\n",
    "df.iloc[:, 2:] = df.iloc[:, 2:].replace(0, np.nan)\n",
    "\n",
    "# Calculate the column-wise mean excluding NaN values\n",
    "column_means = df.iloc[:, 2:].mean(skipna=True)\n",
    "\n",
    "# Replace NaN values in each column with the column mean\n",
    "for col in df.iloc[:, 2:].columns:\n",
    "    df[col].fillna(column_means[col], inplace=True)\n",
    "\n",
    "#Check 0 and NA values again\n",
    "na_values = df.isna().sum()\n",
    "\n",
    "# Check for zero values\n",
    "zero_values = df.eq(0).sum()\n",
    "\n",
    "print(\"Number of NA values in each column:\")\n",
    "print(na_values)\n",
    "\n",
    "print(\"\\nNumber of zero values in each column:\")\n",
    "print(zero_values)\n",
    "\n",
    "\n",
    "df.to_excel('/Users/prithvi/Downloads/Processed Expat.xlsx', index=False) # used to make a dataframe into an excel sheet\n"
   ]
  },
  {
   "cell_type": "code",
   "execution_count": 3,
   "metadata": {},
   "outputs": [
    {
     "data": {
      "application/vnd.jupyter.widget-view+json": {
       "model_id": "cdc1eaaa04394b96ab8ddcccb47a36f5",
       "version_major": 2,
       "version_minor": 0
      },
      "text/plain": [
       "interactive(children=(Dropdown(description='Country 1:', options=('Afghanistan', 'Albania', 'Algeria', 'Andorr…"
      ]
     },
     "metadata": {},
     "output_type": "display_data"
    }
   ],
   "source": [
    "import ipywidgets as widgets\n",
    "from IPython.display import display\n",
    "import matplotlib.pyplot as plt\n",
    "import pandas as pd\n",
    "import numpy as np\n",
    "\n",
    "country_data_excel = pd.read_excel('/Users/prithvi/Documents/OIM_7502_classwork/Expat Final Project/Processed Expat.xlsx')# Path to the excel file\n",
    "# Create dropdown widgets for the country selection\n",
    "dropdown_country1 = widgets.Dropdown(\n",
    "    options=country_data_excel['Country Name'].unique().tolist(),\n",
    "    value='Afghanistan',\n",
    "    description='Country 1:',\n",
    "    disabled=False,\n",
    ")\n",
    "\n",
    "dropdown_country2 = widgets.Dropdown(\n",
    "    options=country_data_excel['Country Name'].unique().tolist(),\n",
    "    value='Albania',\n",
    "    description='Country 2:',\n",
    "    disabled=False,\n",
    ")\n",
    "\n",
    "\n",
    "\n",
    "%matplotlib inline\n",
    "\n",
    "def update_plot(country1, country2):\n",
    "    data_country1 = country_data_excel[country_data_excel['Country Name'] == country1]\n",
    "    data_country2 = country_data_excel[country_data_excel['Country Name'] == country2]\n",
    "    \n",
    "    metrics = [ 'Life Expectancy', 'Crime Rate', 'Happiness Index', 'Crime Rate', 'Death Rate', 'Average Temperatures']\n",
    "    values1 = data_country1[metrics].values.flatten()\n",
    "    values2 = data_country2[metrics].values.flatten()\n",
    "    \n",
    "    fig, ax = plt.subplots(figsize=(10, 6))\n",
    "    bar_width = 0.35\n",
    "    index = np.arange(len(metrics))\n",
    "    \n",
    "    ax.bar(index - bar_width/2, values1, bar_width, label=country1)\n",
    "    ax.bar(index + bar_width/2, values2, bar_width, label=country2)\n",
    "    \n",
    "    ax.set_xlabel('Metrics')\n",
    "    ax.set_ylabel('Values')\n",
    "    ax.set_title('Comparison of Two Selected Countries')\n",
    "    ax.set_xticks(index)\n",
    "    ax.set_xticklabels(metrics)\n",
    "    ax.legend()\n",
    "    \n",
    "    plt.show()\n",
    "    \n",
    "    \n",
    "    # Link widgets to the update plot function\n",
    "widgets.interactive(update_plot, country1=dropdown_country1, country2=dropdown_country2)"
   ]
  },
  {
   "cell_type": "code",
   "execution_count": 4,
   "metadata": {},
   "outputs": [
    {
     "data": {
      "application/vnd.jupyter.widget-view+json": {
       "model_id": "6cbaf3f8eceb47a98769245eacf14395",
       "version_major": 2,
       "version_minor": 0
      },
      "text/plain": [
       "interactive(children=(Dropdown(description='X-axis Variable:', options=('GDP', 'Death Rate', 'Health Expenditu…"
      ]
     },
     "metadata": {},
     "output_type": "display_data"
    },
    {
     "data": {
      "text/plain": [
       "<function __main__.bubble_plot(x_variable, y_variable, top_n)>"
      ]
     },
     "execution_count": 4,
     "metadata": {},
     "output_type": "execute_result"
    }
   ],
   "source": [
    "\n",
    "from ipywidgets import interact, Dropdown, IntSlider\n",
    "\n",
    "# Assuming df is already loaded and contains your data\n",
    "columns = [col for col in df.columns if col not in ['Sr No', 'Country Name']]\n",
    "\n",
    "# Define a function to create the bubble plot with Plotly\n",
    "def bubble_plot(x_variable, y_variable, top_n):\n",
    "    # Sort the DataFrame by x_variable in descending order and select the top N rows\n",
    "    top_countries = df.nlargest(top_n, x_variable)\n",
    "\n",
    "    # Create a bubble chart using Plotly Express\n",
    "    fig = px.scatter(top_countries, x=x_variable, y=y_variable,\n",
    "                     size=x_variable,  # Customize the size by x_variable or another column\n",
    "                     color='Country Name',  # Color by country\n",
    "                     hover_name='Country Name',  # Show country name on hover\n",
    "                     hover_data={x_variable: True, y_variable: True},  # Custom additional hover info\n",
    "                     size_max=60)  # Max size of the bubble\n",
    "\n",
    "    fig.update_layout(title=f'Top {top_n} Countries by {x_variable} vs {y_variable}',\n",
    "                      xaxis_title=x_variable,\n",
    "                      yaxis_title=y_variable,\n",
    "                      title_x=0.5)  # Center the title\n",
    "\n",
    "    fig.show()\n",
    "\n",
    "# Define the dropdown widgets for selecting variables\n",
    "x_dropdown = Dropdown(options=columns, description='X-axis Variable:')\n",
    "y_dropdown = Dropdown(options=columns, description='Y-axis Variable:')\n",
    "\n",
    "# Define the slider widget for selecting top N countries\n",
    "top_n_slider = IntSlider(min=1, max=len(df), step=1, value=10, description='Top N Countries:')\n",
    "\n",
    "# Define the interaction between widgets and the plot function\n",
    "interact(bubble_plot, x_variable=x_dropdown, y_variable=y_dropdown, top_n=top_n_slider)\n"
   ]
  },
  {
   "cell_type": "code",
   "execution_count": 5,
   "metadata": {},
   "outputs": [
    {
     "name": "stderr",
     "output_type": "stream",
     "text": [
      "/var/folders/2s/j_dmwqrs2g30ly77st875x140000gn/T/ipykernel_99403/4215194406.py:8: FutureWarning:\n",
      "\n",
      "The geopandas.dataset module is deprecated and will be removed in GeoPandas 1.0. You can get the original 'naturalearth_lowres' data from https://www.naturalearthdata.com/downloads/110m-cultural-vectors/.\n",
      "\n"
     ]
    },
    {
     "data": {
      "application/vnd.jupyter.widget-view+json": {
       "model_id": "920ef8f32c7b4bab8cf6fa83b2b22366",
       "version_major": 2,
       "version_minor": 0
      },
      "text/plain": [
       "interactive(children=(Dropdown(description='Metric:', options=('GDP', 'Death Rate', 'Health Expenditure', 'Lif…"
      ]
     },
     "metadata": {},
     "output_type": "display_data"
    }
   ],
   "source": [
    "import pandas as pd\n",
    "import plotly.express as px\n",
    "import geopandas as gpd\n",
    "import ipywidgets as widgets\n",
    "from IPython.display import display\n",
    "\n",
    "# Define the file paths\n",
    "shapefile_path = gpd.datasets.get_path('naturalearth_lowres')\n",
    "excel_file_path = '/Users/prithvi/Documents/OIM_7502_classwork/Expat Final Project/Processed Expat.xlsx'\n",
    "\n",
    "# Read world shapefile\n",
    "world = gpd.read_file(shapefile_path)\n",
    "\n",
    "# Read the Excel file into a pandas DataFrame\n",
    "df = pd.read_excel(excel_file_path)\n",
    "\n",
    "# Get the list of column headers (excluding 'Sr No' and 'Country Name')\n",
    "variables = [col for col in df.columns if col not in ['Sr No', 'Country Name']]\n",
    "\n",
    "# Function to update the map based on the selected variable\n",
    "def update_map(selected_variable):\n",
    "    # Merge the world shapefile with the selected variable from the DataFrame\n",
    "    merged_data = world.merge(df[['Country Name', selected_variable]], how='left', left_on='name', right_on='Country Name')\n",
    "\n",
    "    # Create the choropleth map using Plotly Express\n",
    "    fig = px.choropleth(merged_data, \n",
    "                        locations='iso_a3', \n",
    "                        color=selected_variable,\n",
    "                        hover_name='name',\n",
    "                        projection='natural earth')\n",
    "\n",
    "    # Update layout\n",
    "    fig.update_layout(title=f'{selected_variable} Across Countries',\n",
    "                      margin=dict(l=0, r=0, t=50, b=0))\n",
    "\n",
    "    # Show the interactive plot\n",
    "    fig.show()\n",
    "\n",
    "# Create a dropdown widget for variable selection\n",
    "dropdown = widgets.Dropdown(\n",
    "    options=variables,\n",
    "    value=variables[0],  # default value\n",
    "    description='Metric:',\n",
    "    disabled=False,\n",
    ")\n",
    "\n",
    "# Link dropdown to update function\n",
    "widgets.interactive(update_map, selected_variable=dropdown)\n"
   ]
  },
  {
   "cell_type": "code",
   "execution_count": 6,
   "metadata": {},
   "outputs": [
    {
     "name": "stdout",
     "output_type": "stream",
     "text": [
      "Running on local URL:  http://127.0.0.1:7860\n",
      "\n",
      "To create a public link, set `share=True` in `launch()`.\n"
     ]
    },
    {
     "data": {
      "text/html": [
       "<div><iframe src=\"http://127.0.0.1:7860/\" width=\"100%\" height=\"500\" allow=\"autoplay; camera; microphone; clipboard-read; clipboard-write;\" frameborder=\"0\" allowfullscreen></iframe></div>"
      ],
      "text/plain": [
       "<IPython.core.display.HTML object>"
      ]
     },
     "metadata": {},
     "output_type": "display_data"
    },
    {
     "data": {
      "text/plain": []
     },
     "execution_count": 6,
     "metadata": {},
     "output_type": "execute_result"
    }
   ],
   "source": [
    "import gradio as gr\n",
    "import pandas as pd\n",
    "\n",
    "def load_data():\n",
    "    \n",
    "    excel_file_path = '/Users/prithvi/Documents/OIM_7502_classwork/Expat Final Project/Processed Expat.xlsx'  # Path to excel cocument\n",
    "    try:\n",
    "        data = pd.read_excel(excel_file_path)\n",
    "        data.fillna(0, inplace=True)\n",
    "        return data\n",
    "    except Exception as e:\n",
    "        raise RuntimeError(f\"Failed to load data: {e}\")\n",
    "\n",
    "def get_parameters():\n",
    "    \"\"\" Extract parameters from the DataFrame and format them for display. \"\"\"\n",
    "    data = load_data()\n",
    "    parameters = data.columns.tolist()[2:]  # Adjust if columns change\n",
    "    parameters_display = \"\\n\".join([f\"{i+1}. {param}\" for i, param in enumerate(parameters)])\n",
    "    return parameters_display\n",
    "\n",
    "def evaluate_priorities(priority_indices, ranks):\n",
    "    data = load_data()\n",
    "    parameters = data.columns.tolist()[2:]  # Adjust if columns change\n",
    "\n",
    "    # Parse priority indices and rank inputs\n",
    "    priority_indices_list = list(map(int, priority_indices.split(',')))\n",
    "    ranks_list = list(map(int, ranks.split(',')))\n",
    "\n",
    "    top_5_priorities = [parameters[idx - 1] for idx in priority_indices_list]\n",
    "    priority_ranking = dict(zip(top_5_priorities, ranks_list))\n",
    "\n",
    "    total_rank = sum(range(1, 6))\n",
    "    weights = {param: 0.23 - rank / total_rank * 0.05 for param, rank in priority_ranking.items()}\n",
    "\n",
    "    # Calculate scores\n",
    "    scores = {}\n",
    "    for _, row in data.iterrows():\n",
    "        country_score = sum(row[param] * weights[param] for param in top_5_priorities)\n",
    "        scores[row['Country Name']] = country_score\n",
    "\n",
    "    # Sort and return top 10 countries\n",
    "    sorted_scores = sorted(scores.items(), key=lambda x: x[1], reverse=True)\n",
    "    top_10 = \"\\n\".join(f\"{i + 1}. {country} (Score: {score:.2f})\" for i, (country, score) in enumerate(sorted_scores[:10]))\n",
    "    return top_10\n",
    "\n",
    "#  Gradio interface\n",
    "iface = gr.Interface(\n",
    "    fn=evaluate_priorities,\n",
    "    inputs=[\n",
    "        gr.Textbox(label=\"Enter the indices of your top 5 priorities (comma-separated, e.g., 1,2,3,4,5)\"),\n",
    "        gr.Textbox(label=\"Enter the ranks for these priorities (comma-separated, e.g., 5,4,3,2,1)\")\n",
    "    ],\n",
    "    outputs=\"text\",\n",
    "    title=\"Top Countries Selector\",\n",
    "    description=\"Refer to the parameters below before entering indices and ranks:\\n\" + get_parameters()\n",
    ")\n",
    "\n",
    "iface.launch()\n"
   ]
  },
  {
   "cell_type": "code",
   "execution_count": 7,
   "metadata": {},
   "outputs": [
    {
     "name": "stdout",
     "output_type": "stream",
     "text": [
      "Running on local URL:  http://127.0.0.1:7861\n",
      "\n",
      "To create a public link, set `share=True` in `launch()`.\n"
     ]
    },
    {
     "data": {
      "text/html": [
       "<div><iframe src=\"http://127.0.0.1:7861/\" width=\"100%\" height=\"500\" allow=\"autoplay; camera; microphone; clipboard-read; clipboard-write;\" frameborder=\"0\" allowfullscreen></iframe></div>"
      ],
      "text/plain": [
       "<IPython.core.display.HTML object>"
      ]
     },
     "metadata": {},
     "output_type": "display_data"
    },
    {
     "data": {
      "text/plain": []
     },
     "execution_count": 7,
     "metadata": {},
     "output_type": "execute_result"
    }
   ],
   "source": [
    "df = pd.read_excel('/Users/prithvi/Documents/OIM_7502_classwork/Expat Final Project/Processed Expat.xlsx') # Path to the excel file\n",
    "def normalize_weights(weights):\n",
    "    total = sum(weights)\n",
    "    if total == 0:\n",
    "        return [0] * len(weights)  # Avoid division by zero if all weights are zero\n",
    "    return [float(w) / total for w in weights]\n",
    "\n",
    "def compare_countries(country1, country2, gdp_weight, happiness_weight, life_expectancy_weight, crime_rate_weight, death_rate_weight, average_temperatures_weight):\n",
    "    weights = [gdp_weight, happiness_weight, life_expectancy_weight, crime_rate_weight, death_rate_weight, average_temperatures_weight]\n",
    "    normalized_weights = normalize_weights(weights)  # Normalize the weights\n",
    "\n",
    "    # Update the dictionary with normalized weights\n",
    "    weight_dict = {'GDP': normalized_weights[0], 'Happiness Index': normalized_weights[1], 'Life Expectancy': normalized_weights[2], 'Crime Rate' : normalized_weights[3], 'Death Rate': normalized_weights[4], 'Average Temperatures': normalized_weights[5]}\n",
    "\n",
    "    score1 = calculate_country_score(country1, weight_dict)\n",
    "    score2 = calculate_country_score(country2, weight_dict)\n",
    "    \n",
    "    if score1 > score2:\n",
    "        return f\"{country1} is recommended with a score of {score1:.2f} over {country2} with a score of {score2:.2f}.\"\n",
    "    elif score2 > score1:\n",
    "        return f\"{country2} is recommended with a score of {score2:.2f} over {country1} with a score of {score1:.2f}.\"\n",
    "    else:\n",
    "        return f\"Both {country1} and {country2} are equally preferable with identical scores of {score1:.2f}.\"\n",
    "\n",
    "# Function to calculate the weighted score for a given country\n",
    "def calculate_country_score(country, weights):\n",
    "    country_data = df[df['Country Name'] == country]\n",
    "    if country_data.empty:\n",
    "        return 0  # Return 0 or handle this as needed if the country is not found\n",
    "    score = (country_data['GDP'].values[0] * weights['GDP'] +\n",
    "             country_data['Happiness Index'].values[0] * weights['Happiness Index'] +\n",
    "             country_data['Life Expectancy'].values[0] * weights['Life Expectancy'] -\n",
    "             country_data['Crime Rate'].values[0] * weights['Crime Rate']+\n",
    "             country_data['Death Rate'].values[0] * weights['Death Rate']+\n",
    "             country_data['Average Temperatures'].values[0] * weights['Average Temperatures']) \n",
    "    return score\n",
    "\n",
    "\n",
    "iface = gr.Interface(\n",
    "    fn=compare_countries,\n",
    "    inputs=[\n",
    "        gr.Dropdown(choices=list(df['Country Name'].unique()), label=\"First Country\"),\n",
    "        gr.Dropdown(choices=list(df['Country Name'].unique()), label=\"Second Country\"),\n",
    "        gr.Slider(minimum=0, maximum=1, value= 0.25, label=\"GDP Weight\"),\n",
    "        gr.Slider(minimum=0, maximum=1, value=0.25, label=\"Happiness Index Weight\"),\n",
    "        gr.Slider(minimum=0, maximum=1, value= 0.25, label=\"Life Expectancy Weight\"),\n",
    "        gr.Slider(minimum=0, maximum=1, value= 0.25, label=\"Crime Rate Weight\"),\n",
    "        gr.Slider(minimum=0, maximum=1, value= 0.25, label=\"Death Rate Weight\"),\n",
    "        gr.Slider(minimum=0, maximum=1, value= 0.25, label=\"Average Temperatures Weight\"),\n",
    "    ],\n",
    "    outputs=\"text\",\n",
    "    title=\"Country Comparison for Retirement\"\n",
    ")\n",
    "\n",
    "iface.launch()\n",
    "\n"
   ]
  },
  {
   "cell_type": "code",
   "execution_count": null,
   "metadata": {},
   "outputs": [],
   "source": []
  }
 ],
 "metadata": {
  "colab": {
   "provenance": []
  },
  "kernelspec": {
   "display_name": "Python 3 (ipykernel)",
   "language": "python",
   "name": "python3"
  },
  "language_info": {
   "codemirror_mode": {
    "name": "ipython",
    "version": 3
   },
   "file_extension": ".py",
   "mimetype": "text/x-python",
   "name": "python",
   "nbconvert_exporter": "python",
   "pygments_lexer": "ipython3",
   "version": "3.9.13"
  }
 },
 "nbformat": 4,
 "nbformat_minor": 1
}
